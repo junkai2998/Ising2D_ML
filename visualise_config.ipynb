{
 "cells": [
  {
   "cell_type": "code",
   "execution_count": null,
   "metadata": {},
   "outputs": [
    {
     "data": {
      "image/png": "[encoded data removed]",
      "text/plain": [
       "<Figure size 432x288 with 1 Axes>"
      ]
     },
     "metadata": {
      "needs_background": "light"
     },
     "output_type": "display_data"
    },
    {
     "name": "stdout",
     "output_type": "stream",
     "text": [
      "temperature=  2.5 step=80\n"
     ]
    }
   ],
   "source": [
    "### visualise spin configuration at specific temperature\n",
    "\n",
    "import os\n",
    "import numpy as np\n",
    "import matplotlib.pyplot as plt\n",
    "from IPython import display\n",
    "\n",
    "cwd=os.getcwd()\n",
    "temp=os.listdir(cwd+'\\data')\n",
    "print('*** temp=',temp)\n",
    "print('set j between 0 to '+str(len(temp)-1))\n",
    "j=5;\n",
    "\n",
    "\n",
    "tempti='data/'+temp[j]    \n",
    "cdir=cwd+'/'+tempti\n",
    "\n",
    "#j=len(temp)-1 #specify j in 0 till len(temp)-1 to visualise the configurations for temperature=temp[j\n",
    "for dum in range(10):\n",
    "    if os.listdir(cdir)[dum][-3:] == 'dat':\n",
    "        i=os.listdir(cdir)[dum]\n",
    "        f = open(cdir+'/'+i, \"r+\")\n",
    "        st=f.readline()\n",
    "        #print(st)\n",
    "        s1=str.split(st,'; N_run')[0]\n",
    "        L=int(str.split(s1,\"=\")[1])\n",
    "        #print(\"L=\",L)\n",
    "print(\"L=\",L)\n",
    "\n",
    "rawdata=np.empty(shape=[len(os.listdir(cdir)),L,L])\n",
    "count=0\n",
    "for i in os.listdir(cdir):\n",
    "    if i[-3:] != 'png':\n",
    "        rawdata[count]=np.loadtxt(cdir+'/'+i,skiprows=0)\n",
    "#            rawdata=np.loadtxt(cdir+'/'+i,skiprows=0)\n",
    "        count=count+1\n",
    "        #name=i[:-3]\n",
    "        #plt.imshow(rawdata,cmap=plt.cm.hot)\n",
    "        #plt.savefig(cdir+'/'+name+'.png')\n",
    "            \n",
    "def show(V):\n",
    "    display.clear_output(wait=True)\n",
    "    display.display()\n",
    "    plt.imshow(V,cmap=plt.cm.hot)\n",
    "    plt.xlabel('x')\n",
    "    plt.ylabel('y')\n",
    "    plt.show()\n",
    "\n",
    "for time in range (len(os.listdir(cdir))):\n",
    "    show(rawdata[time])\n",
    "    print (\"temperature= \",temp[j],f'step={time+1}')"
   ]
  },
  {
   "cell_type": "code",
   "execution_count": 1,
   "metadata": {},
   "outputs": [
    {
     "name": "stdout",
     "output_type": "stream",
     "text": [
      "*** temp= ['0.0', '0.1', '0.2', '0.3', '0.4', '0.5', '0.6', '0.7', '0.8', '0.9', '1.0', '1.1', '1.2', '1.3', '1.4', '1.5', '1.6', '1.7', '1.8', '1.9', '2.0', '2.1', '2.2', '2.3', '2.4', '2.5', '2.6', '2.7', '2.8', '2.9', '3.0', '3.1', '3.2', '3.3', '3.4', '3.5', '3.6', '3.7', '3.8', '3.9', '4.0', '4.1', '4.2', '4.3', '4.4', '4.5', '4.6', '4.7', '4.8', '4.9', '5.0']\n",
      "set j between 0 to 50\n"
     ]
    }
   ],
   "source": [
    "### visualise spin configuration at specific temperature\n",
    "\n",
    "import os\n",
    "import numpy as np\n",
    "import matplotlib.pyplot as plt\n",
    "from IPython import display\n",
    "\n",
    "cwd=os.getcwd()\n",
    "temp=os.listdir(cwd+'\\data')\n",
    "print('*** temp=',temp)\n",
    "print('set j between 0 to '+str(len(temp)-1))\n",
    "j=5;\n",
    "\n",
    "\n"
   ]
  },
  {
   "cell_type": "code",
   "execution_count": null,
   "metadata": {},
   "outputs": [],
   "source": []
  }
 ],
 "metadata": {
  "kernelspec": {
   "display_name": "Python 3",
   "language": "python",
   "name": "python3"
  },
  "language_info": {
   "codemirror_mode": {
    "name": "ipython",
    "version": 3
   },
   "file_extension": ".py",
   "mimetype": "text/x-python",
   "name": "python",
   "nbconvert_exporter": "python",
   "pygments_lexer": "ipython3",
   "version": "3.7.4"
  }
 },
 "nbformat": 4,
 "nbformat_minor": 4
}
