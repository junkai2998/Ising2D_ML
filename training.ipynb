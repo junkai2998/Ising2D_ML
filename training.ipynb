{
 "cells": [
  {
   "cell_type": "code",
   "execution_count": 1,
   "metadata": {},
   "outputs": [
    {
     "name": "stdout",
     "output_type": "stream",
     "text": [
      "tf.__version__= 2.2.0\n"
     ]
    },
    {
     "data": {
      "image/png": "[encoded data removed]",
      "text/plain": [
       "<Figure size 432x288 with 1 Axes>"
      ]
     },
     "metadata": {
      "needs_background": "light"
     },
     "output_type": "display_data"
    },
    {
     "name": "stdout",
     "output_type": "stream",
     "text": [
      "Xraw.shape,Yraw.shape =  (1912, 10, 10) (1912, 2)\n"
     ]
    }
   ],
   "source": [
    "import numpy as np\n",
    "import matplotlib.pyplot as plt\n",
    "import tensorflow as tf\n",
    "from tensorflow import keras\n",
    "print('tf.__version__=',tf.__version__)\n",
    "Xraw = np.load(\"data.npy\")\n",
    "Xraw.shape\n",
    "#Yraw = np.load(\"data_y.npy\")\n",
    "Yraw = np.load(\"data_y.npy\")\n",
    "plt.imshow(Xraw[len(Xraw)-1], cmap=\"Greys\")\n",
    "plt.show()\n",
    "lxraw=len(Xraw)\n",
    "Xraw=Xraw[int(0.25*lxraw):-1]\n",
    "Yraw=Yraw[int(0.25*lxraw):-1]\n",
    "print(\"Xraw.shape,Yraw.shape = \",Xraw.shape,Yraw.shape)\n",
    "#print(lxraw)"
   ]
  },
  {
   "cell_type": "code",
   "execution_count": 2,
   "metadata": {},
   "outputs": [
    {
     "name": "stdout",
     "output_type": "stream",
     "text": [
      "(956, 10, 10)\n",
      "(956, 2)\n"
     ]
    }
   ],
   "source": [
    "from sklearn.model_selection import train_test_split\n",
    "#isplit=int(0.5*(lxraw))\n",
    "#isplit=1000\n",
    "#print('isplit=',isplit)\n",
    "test_size=0.5\n",
    "#X_train, X_test, y_train, y_test = train_test_split(Xraw[isplit:-1], Yraw[isplit-1], test_size=0.2, random_state=42)\n",
    "X_train, X_test, y_train, y_test = train_test_split(Xraw, Yraw, test_size=test_size, random_state=42)\n",
    "\n",
    "print(np.shape(X_train))\n",
    "print(np.shape(y_train))"
   ]
  },
  {
   "cell_type": "code",
   "execution_count": 3,
   "metadata": {},
   "outputs": [],
   "source": [
    "img_rows, img_cols = 10, 10\n",
    "model = keras.Sequential([\n",
    "    keras.layers.Flatten(input_shape=(img_rows, img_cols)),\n",
    "    keras.layers.Dense(10, activation='sigmoid'),\n",
    "    keras.layers.Dropout(0.2),\n",
    "    keras.layers.Dense(2, activation='softmax')\n",
    "])"
   ]
  },
  {
   "cell_type": "code",
   "execution_count": 4,
   "metadata": {},
   "outputs": [
    {
     "name": "stdout",
     "output_type": "stream",
     "text": [
      "Model: \"sequential\"\n",
      "_________________________________________________________________\n",
      "Layer (type)                 Output Shape              Param #   \n",
      "=================================================================\n",
      "flatten (Flatten)            (None, 100)               0         \n",
      "_________________________________________________________________\n",
      "dense (Dense)                (None, 10)                1010      \n",
      "_________________________________________________________________\n",
      "dropout (Dropout)            (None, 10)                0         \n",
      "_________________________________________________________________\n",
      "dense_1 (Dense)              (None, 2)                 22        \n",
      "=================================================================\n",
      "Total params: 1,032\n",
      "Trainable params: 1,032\n",
      "Non-trainable params: 0\n",
      "_________________________________________________________________\n"
     ]
    }
   ],
   "source": [
    "model.summary(line_length=None, positions=None, print_fn=None)"
   ]
  },
  {
   "cell_type": "code",
   "execution_count": 5,
   "metadata": {},
   "outputs": [],
   "source": [
    "model.compile(optimizer='adam',\n",
    "              loss=tf.keras.losses.BinaryCrossentropy(from_logits=True),\n",
    "              metrics=['accuracy'])\n",
    "#SparseCategoricalCrossentropy(#from_logits=True)"
   ]
  },
  {
   "cell_type": "code",
   "execution_count": 6,
   "metadata": {},
   "outputs": [
    {
     "name": "stdout",
     "output_type": "stream",
     "text": [
      "Epoch 1/5\n",
      "30/30 [==============================] - 0s 1ms/step - loss: 0.6623 - accuracy: 0.7374\n",
      "Epoch 2/5\n",
      "30/30 [==============================] - 0s 1ms/step - loss: 0.6489 - accuracy: 0.7374\n",
      "Epoch 3/5\n",
      "30/30 [==============================] - 0s 1ms/step - loss: 0.6428 - accuracy: 0.7374\n",
      "Epoch 4/5\n",
      "30/30 [==============================] - 0s 1ms/step - loss: 0.6397 - accuracy: 0.7374\n",
      "Epoch 5/5\n",
      "30/30 [==============================] - 0s 1ms/step - loss: 0.6388 - accuracy: 0.7374\n"
     ]
    },
    {
     "data": {
      "text/plain": [
       "<tensorflow.python.keras.callbacks.History at 0x7fa54c359f50>"
      ]
     },
     "execution_count": 6,
     "metadata": {},
     "output_type": "execute_result"
    }
   ],
   "source": [
    "model.fit(X_train, y_train, epochs=5)"
   ]
  },
  {
   "cell_type": "code",
   "execution_count": 8,
   "metadata": {},
   "outputs": [],
   "source": [
    "mkdir saved_model"
   ]
  },
  {
   "cell_type": "code",
   "execution_count": 9,
   "metadata": {},
   "outputs": [],
   "source": [
    "##mkdir -p saved_model\n",
    "model.save('saved_model/2DIsing.h5')\n",
    "#mkdir -p saved_model\n",
    "#model.save('saved_model/2DIsing')\n",
    "#https://www.tensorflow.org/tutorials/keras/save_and_load"
   ]
  },
  {
   "cell_type": "markdown",
   "metadata": {},
   "source": [
    "# check code"
   ]
  },
  {
   "cell_type": "code",
   "execution_count": 1,
   "metadata": {},
   "outputs": [
    {
     "name": "stdout",
     "output_type": "stream",
     "text": [
      "tf.__version__= 2.2.0\n"
     ]
    },
    {
     "data": {
      "image/png": "[encoded data removed]",
      "text/plain": [
       "<Figure size 432x288 with 1 Axes>"
      ]
     },
     "metadata": {
      "needs_background": "light"
     },
     "output_type": "display_data"
    },
    {
     "name": "stdout",
     "output_type": "stream",
     "text": [
      "Xraw.shape =  (1912, 10, 10) , Yraw.shape =  (1912, 2)\n"
     ]
    }
   ],
   "source": [
    "import numpy as np\n",
    "import matplotlib.pyplot as plt\n",
    "import tensorflow as tf\n",
    "from tensorflow import keras\n",
    "print('tf.__version__=',tf.__version__)\n",
    "\n",
    "Xraw = np.load('ising_dataset.npz')['x']\n",
    "Yraw = np.load('ising_dataset.npz')['y']\n",
    "\n",
    "plt.imshow(Xraw[len(Xraw)-1], cmap=\"Greys\")\n",
    "plt.show()\n",
    "\n",
    "lxraw=len(Xraw)\n",
    "Xraw=Xraw[int(0.25*lxraw):-1]\n",
    "Yraw=Yraw[int(0.25*lxraw):-1]\n",
    "print(\"Xraw.shape = \",Xraw.shape,\", Yraw.shape = \",Yraw.shape)"
   ]
  },
  {
   "cell_type": "code",
   "execution_count": 2,
   "metadata": {},
   "outputs": [],
   "source": [
    "from sklearn.model_selection import train_test_split\n",
    "#isplit=int(0.5*(lxraw))\n",
    "#isplit=1000\n",
    "#print('isplit=',isplit)\n",
    "\n",
    "test_size=0.2\n",
    "x_train, x_test, y_train, y_test = train_test_split(Xraw, Yraw, test_size=test_size, random_state=42)"
   ]
  },
  {
   "cell_type": "code",
   "execution_count": 3,
   "metadata": {},
   "outputs": [
    {
     "name": "stdout",
     "output_type": "stream",
     "text": [
      "----------------------data summary---------------------------------\n",
      "total data available =  2550\n",
      "data available for training = 1912\n",
      "shape of x_train =  (1529, 10, 10) shape of y_train =  (1529, 2)\n",
      "shape of x_test =  (383, 10, 10) shape of y_test =  (383, 2)\n",
      "____________________________________________________________________\n"
     ]
    }
   ],
   "source": [
    "print('----------------------data summary---------------------------------')\n",
    "print('total data available = ',lxraw)\n",
    "print('data available for training =',lxraw-int(0.25*lxraw)-1)\n",
    "print(\"shape of x_train = \",x_train.shape,\"shape of y_train = \",y_train.shape)\n",
    "print(\"shape of x_test = \",x_test.shape,\"shape of y_test = \",y_test.shape)\n",
    "print('____________________________________________________________________')"
   ]
  },
  {
   "cell_type": "code",
   "execution_count": 4,
   "metadata": {},
   "outputs": [
    {
     "name": "stdout",
     "output_type": "stream",
     "text": [
      "Model: \"sequential\"\n",
      "_________________________________________________________________\n",
      "Layer (type)                 Output Shape              Param #   \n",
      "=================================================================\n",
      "flatten (Flatten)            (None, 100)               0         \n",
      "_________________________________________________________________\n",
      "dense (Dense)                (None, 10)                1010      \n",
      "_________________________________________________________________\n",
      "dropout (Dropout)            (None, 10)                0         \n",
      "_________________________________________________________________\n",
      "dense_1 (Dense)              (None, 2)                 22        \n",
      "=================================================================\n",
      "Total params: 1,032\n",
      "Trainable params: 1,032\n",
      "Non-trainable params: 0\n",
      "_________________________________________________________________\n"
     ]
    }
   ],
   "source": [
    "img_rows, img_cols = 10, 10\n",
    "model = keras.Sequential([\n",
    "    keras.layers.Flatten(input_shape=(img_rows, img_cols)),\n",
    "    keras.layers.Dense(10, activation='sigmoid'),\n",
    "    keras.layers.Dropout(0.2),\n",
    "    keras.layers.Dense(2, activation='softmax')\n",
    "])\n",
    "\n",
    "model.summary(line_length=None, positions=None, print_fn=None)"
   ]
  },
  {
   "cell_type": "code",
   "execution_count": 5,
   "metadata": {},
   "outputs": [],
   "source": [
    "model.compile(optimizer='adam',\n",
    "              loss=tf.keras.losses.BinaryCrossentropy(from_logits=True),\n",
    "              metrics=['accuracy'])\n",
    "#SparseCategoricalCrossentropy(#from_logits=True)"
   ]
  },
  {
   "cell_type": "code",
   "execution_count": 6,
   "metadata": {},
   "outputs": [
    {
     "name": "stdout",
     "output_type": "stream",
     "text": [
      "Epoch 1/20\n",
      "48/48 [==============================] - 0s 4ms/step - loss: 0.6948 - accuracy: 0.6632 - val_loss: 0.6377 - val_accuracy: 0.9295\n",
      "Epoch 2/20\n",
      "48/48 [==============================] - 0s 2ms/step - loss: 0.6258 - accuracy: 0.8613 - val_loss: 0.6132 - val_accuracy: 0.8930\n",
      "Epoch 3/20\n",
      "48/48 [==============================] - 0s 2ms/step - loss: 0.6073 - accuracy: 0.8738 - val_loss: 0.6009 - val_accuracy: 0.9164\n",
      "Epoch 4/20\n",
      "48/48 [==============================] - 0s 2ms/step - loss: 0.5973 - accuracy: 0.8914 - val_loss: 0.5906 - val_accuracy: 0.9373\n",
      "Epoch 5/20\n",
      "48/48 [==============================] - 0s 3ms/step - loss: 0.5889 - accuracy: 0.9143 - val_loss: 0.5813 - val_accuracy: 0.9504\n",
      "Epoch 6/20\n",
      "48/48 [==============================] - 0s 2ms/step - loss: 0.5772 - accuracy: 0.9418 - val_loss: 0.5730 - val_accuracy: 0.9608\n",
      "Epoch 7/20\n",
      "48/48 [==============================] - 0s 2ms/step - loss: 0.5730 - accuracy: 0.9424 - val_loss: 0.5658 - val_accuracy: 0.9661\n",
      "Epoch 8/20\n",
      "48/48 [==============================] - 0s 2ms/step - loss: 0.5649 - accuracy: 0.9477 - val_loss: 0.5597 - val_accuracy: 0.9661\n",
      "Epoch 9/20\n",
      "48/48 [==============================] - 0s 2ms/step - loss: 0.5571 - accuracy: 0.9640 - val_loss: 0.5545 - val_accuracy: 0.9765\n",
      "Epoch 10/20\n",
      "48/48 [==============================] - 0s 2ms/step - loss: 0.5544 - accuracy: 0.9621 - val_loss: 0.5500 - val_accuracy: 0.9713\n",
      "Epoch 11/20\n",
      "48/48 [==============================] - 0s 2ms/step - loss: 0.5506 - accuracy: 0.9653 - val_loss: 0.5463 - val_accuracy: 0.9687\n",
      "Epoch 12/20\n",
      "48/48 [==============================] - 0s 2ms/step - loss: 0.5489 - accuracy: 0.9627 - val_loss: 0.5432 - val_accuracy: 0.9661\n",
      "Epoch 13/20\n",
      "48/48 [==============================] - 0s 2ms/step - loss: 0.5446 - accuracy: 0.9627 - val_loss: 0.5406 - val_accuracy: 0.9661\n",
      "Epoch 14/20\n",
      "48/48 [==============================] - 0s 2ms/step - loss: 0.5416 - accuracy: 0.9640 - val_loss: 0.5384 - val_accuracy: 0.9661\n",
      "Epoch 15/20\n",
      "48/48 [==============================] - 0s 2ms/step - loss: 0.5392 - accuracy: 0.9673 - val_loss: 0.5364 - val_accuracy: 0.9661\n",
      "Epoch 16/20\n",
      "48/48 [==============================] - 0s 2ms/step - loss: 0.5350 - accuracy: 0.9712 - val_loss: 0.5348 - val_accuracy: 0.9661\n",
      "Epoch 17/20\n",
      "48/48 [==============================] - 0s 2ms/step - loss: 0.5349 - accuracy: 0.9712 - val_loss: 0.5334 - val_accuracy: 0.9661\n",
      "Epoch 18/20\n",
      "48/48 [==============================] - 0s 2ms/step - loss: 0.5337 - accuracy: 0.9680 - val_loss: 0.5322 - val_accuracy: 0.9661\n",
      "Epoch 19/20\n",
      "48/48 [==============================] - 0s 2ms/step - loss: 0.5323 - accuracy: 0.9699 - val_loss: 0.5312 - val_accuracy: 0.9661\n",
      "Epoch 20/20\n",
      "48/48 [==============================] - 0s 2ms/step - loss: 0.5307 - accuracy: 0.9725 - val_loss: 0.5303 - val_accuracy: 0.9661\n",
      "dict_keys(['loss', 'accuracy', 'val_loss', 'val_accuracy'])\n"
     ]
    }
   ],
   "source": [
    "history = model.fit(x_train, y_train,validation_data=(x_test,y_test), epochs=20)\n",
    "print(history.history.keys())"
   ]
  },
  {
   "cell_type": "code",
   "execution_count": 7,
   "metadata": {},
   "outputs": [
    {
     "data": {
      "image/png": "[encoded data removed]",
      "text/plain": [
       "<Figure size 432x288 with 1 Axes>"
      ]
     },
     "metadata": {
      "needs_background": "light"
     },
     "output_type": "display_data"
    },
    {
     "data": {
      "image/png": "[encoded data removed]",
      "text/plain": [
       "<Figure size 432x288 with 1 Axes>"
      ]
     },
     "metadata": {
      "needs_background": "light"
     },
     "output_type": "display_data"
    }
   ],
   "source": [
    "acc = history.history['accuracy']\n",
    "val_acc = history.history['val_accuracy']\n",
    "loss = history.history['loss']\n",
    "val_loss = history.history['val_loss']\n",
    "\n",
    "epochs = range(1,len(acc)+1)\n",
    "\n",
    "plt.plot(epochs,acc, 'bo',label='training acc')\n",
    "plt.plot(epochs,val_acc,'r',label='validation acc')\n",
    "plt.title('training and validation accuracy')\n",
    "plt.legend()\n",
    "\n",
    "plt.figure()\n",
    "plt.plot(epochs,loss, 'bo',label='training loss')\n",
    "plt.plot(epochs,val_loss,'r',label='validation loss')\n",
    "plt.title('training and validation loss')\n",
    "plt.legend()\n",
    "\n",
    "plt.show()"
   ]
  },
  {
   "cell_type": "code",
   "execution_count": 8,
   "metadata": {},
   "outputs": [],
   "source": [
    "import os\n",
    "os.mkdir ('saved_model')\n",
    "##mkdir -p saved_model\n",
    "model.save('saved_model/2DIsing.h5')\n",
    "#mkdir -p saved_model\n",
    "#model.save('saved_model/2DIsing')\n",
    "#https://www.tensorflow.org/tutorials/keras/save_and_load"
   ]
  },
  {
   "cell_type": "code",
   "execution_count": null,
   "metadata": {},
   "outputs": [],
   "source": []
  },
  {
   "cell_type": "code",
   "execution_count": null,
   "metadata": {},
   "outputs": [],
   "source": []
  }
 ],
 "metadata": {
  "kernelspec": {
   "display_name": "Python 3",
   "language": "python",
   "name": "python3"
  },
  "language_info": {
   "codemirror_mode": {
    "name": "ipython",
    "version": 3
   },
   "file_extension": ".py",
   "mimetype": "text/x-python",
   "name": "python",
   "nbconvert_exporter": "python",
   "pygments_lexer": "ipython3",
   "version": "3.7.6"
  }
 },
 "nbformat": 4,
 "nbformat_minor": 4
}
